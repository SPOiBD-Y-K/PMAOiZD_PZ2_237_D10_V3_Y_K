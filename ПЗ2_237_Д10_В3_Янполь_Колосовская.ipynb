{
  "nbformat": 4,
  "nbformat_minor": 0,
  "metadata": {
    "colab": {
      "provenance": []
    },
    "kernelspec": {
      "name": "python3",
      "display_name": "Python 3"
    },
    "language_info": {
      "name": "python"
    }
  },
  "cells": [
    {
      "cell_type": "markdown",
      "source": [
        "# Решение задачи линейного программирования №3\n",
        "## 1. Постановка задачи\n",
        "Среди чисел x и y, удовлетворяющих условиям:\n",
        "y ≥ 0\n",
        "x + y ≤ 1\n",
        "x - 4y ≥ -2\n",
        "найти такие, при которых разность этих чисел y - x принимает наибольшее значение.\n",
        "\n",
        "Целевая функция: F = y - x → max\n",
        "\n",
        "Ограничения:\n",
        "\n",
        "y ≥ 0\n",
        "\n",
        "x + y ≤ 1\n",
        "\n",
        "x - 4y ≥ -2\n"
      ],
      "metadata": {
        "id": "5i4Bc_02DZuF"
      }
    },
    {
      "cell_type": "markdown",
      "source": [
        "## 2. Установка необходимых библиотек"
      ],
      "metadata": {
        "id": "Ymrn1iyaDv-w"
      }
    },
    {
      "cell_type": "code",
      "source": [
        "!pip install pulp cvxopt\n",
        "\n",
        "import numpy as np\n",
        "import matplotlib.pyplot as plt\n",
        "from scipy.optimize import linprog\n",
        "import pulp\n",
        "import cvxopt\n",
        "from cvxopt import matrix, solvers\n",
        "import time\n"
      ],
      "metadata": {
        "colab": {
          "base_uri": "https://localhost:8080/"
        },
        "id": "sXGx89luD0If",
        "outputId": "84c31876-6252-4cb5-8489-8eb1c752518d"
      },
      "execution_count": 5,
      "outputs": [
        {
          "output_type": "stream",
          "name": "stdout",
          "text": [
            "Requirement already satisfied: pulp in /usr/local/lib/python3.12/dist-packages (3.3.0)\n",
            "Requirement already satisfied: cvxopt in /usr/local/lib/python3.12/dist-packages (1.3.2)\n"
          ]
        }
      ]
    },
    {
      "cell_type": "markdown",
      "source": [
        "## 3. Решение с использованием библиотеки PuLP"
      ],
      "metadata": {
        "id": "9xybO4gOEHO5"
      }
    },
    {
      "cell_type": "code",
      "source": [
        "import pulp\n",
        "import time\n",
        "\n",
        "# Засекаем время начала выполнения\n",
        "start_time = time.time()\n",
        "\n",
        "# Создаем задачу максимизации\n",
        "problem = pulp.LpProblem(\"Task3\", pulp.LpMaximize)\n",
        "\n",
        "# Определяем переменные\n",
        "x = pulp.LpVariable(\"x\", lowBound=None)  # x может быть отрицательным\n",
        "y = pulp.LpVariable(\"y\", lowBound=0)     # y ≥ 0\n",
        "\n",
        "# Целевая функция: максимизировать y - x\n",
        "problem += y - x, \"Objective Function\"\n",
        "\n",
        "# Ограничения\n",
        "problem += x + y <= 1, \"Constraint1\"\n",
        "problem += x - 4*y >= -2, \"Constraint2\"\n",
        "\n",
        "# Решаем задачу\n",
        "problem.solve()\n",
        "\n",
        "# Время выполнения\n",
        "pulp_time = time.time() - start_time\n",
        "\n",
        "# Выводим результаты\n",
        "print(\"=== РЕШЕНИЕ С ИСПОЛЬЗОВАНИЕМ PuLP ===\")\n",
        "print(f\"Статус решения: {pulp.LpStatus[problem.status]}\")\n",
        "print(f\"Оптимальное значение x = {x.varValue}\")\n",
        "print(f\"Оптимальное значение y = {y.varValue}\")\n",
        "print(f\"Максимальное значение целевой функции F = {pulp.value(problem.objective)}\")\n",
        "print(f\"Время выполнения: {pulp_time:.6f} секунд\")\n",
        "print()"
      ],
      "metadata": {
        "colab": {
          "base_uri": "https://localhost:8080/"
        },
        "id": "o-O5yzLuEKIA",
        "outputId": "7a492440-5420-441c-e40f-f80afe393de0"
      },
      "execution_count": 6,
      "outputs": [
        {
          "output_type": "stream",
          "name": "stdout",
          "text": [
            "=== РЕШЕНИЕ С ИСПОЛЬЗОВАНИЕМ PuLP ===\n",
            "Статус решения: Optimal\n",
            "Оптимальное значение x = -2.0\n",
            "Оптимальное значение y = 0.0\n",
            "Максимальное значение целевой функции F = 2.0\n",
            "Время выполнения: 0.008620 секунд\n",
            "\n"
          ]
        }
      ]
    },
    {
      "cell_type": "markdown",
      "source": [
        "### Описание\n",
        "1. Инициализация задачи:\n",
        "\n",
        "pulp.LpProblem(\"Task3\", pulp.LpMaximize) создает задачу линейного программирования с именем \"Task3\" и направлением оптимизации - максимизация.\n",
        "\n",
        "2. Определение переменных:\n",
        "\n",
        "pulp.LpVariable(\"x\", lowBound=None) - переменная x без нижней границы (может быть отрицательной)\n",
        "\n",
        "pulp.LpVariable(\"y\", lowBound=0) - переменная y с нижней границей 0 (y ≥ 0)\n",
        "\n",
        "3. Целевая функция:\n",
        "\n",
        "problem += y - x, \"Objective Function\" - добавляем целевую функцию для максимизации разности y - x\n",
        "\n",
        "4. Ограничения:\n",
        "\n",
        "problem += x + y <= 1, \"Constraint1\" - линейное ограничение x + y ≤ 1\n",
        "\n",
        "problem += x - 4*y >= -2, \"Constraint2\" - линейное ограничение x - 4y ≥ -2\n",
        "\n",
        "5. Решение задачи:\n",
        "\n",
        "problem.solve() - запускает решатель для нахождения оптимального решения\n",
        "\n",
        "6. Извлечение результатов:\n",
        "\n",
        "x.varValue, y.varValue - значения оптимальных переменных\n",
        "\n",
        "pulp.value(problem.objective) - значение целевой функции в оптимальной точке"
      ],
      "metadata": {
        "id": "rsOhtOurFHIM"
      }
    },
    {
      "cell_type": "markdown",
      "source": [
        "## 4. Решение с использованием библиотеки SciPy.Optimize"
      ],
      "metadata": {
        "id": "aYXL03NDEOO1"
      }
    },
    {
      "cell_type": "code",
      "source": [
        "import scipy.optimize as opt\n",
        "import numpy as np\n",
        "import time\n",
        "\n",
        "# Засекаем время начала выполнения\n",
        "start_time = time.time()\n",
        "\n",
        "# Целевая функция: минимизировать -(y - x) = x - y\n",
        "# (т.к. scipy минимизирует, а нам нужно максимизировать y - x)\n",
        "def objective(xy):\n",
        "    x, y = xy\n",
        "    return x - y  # минимизируем x - y ≡ максимизируем y - x\n",
        "\n",
        "# Ограничения в формате scipy\n",
        "constraints = [\n",
        "    # x + y ≤ 1 → x + y - 1 ≤ 0\n",
        "    {'type': 'ineq', 'fun': lambda xy: 1 - xy[0] - xy[1]},\n",
        "\n",
        "    # x - 4y ≥ -2 → x - 4y + 2 ≥ 0\n",
        "    {'type': 'ineq', 'fun': lambda xy: xy[0] - 4*xy[1] + 2},\n",
        "\n",
        "    # y ≥ 0\n",
        "    {'type': 'ineq', 'fun': lambda xy: xy[1]}\n",
        "]\n",
        "\n",
        "# Начальное приближение\n",
        "x0 = [0, 0]\n",
        "\n",
        "# Границы переменных\n",
        "bounds = [(None, None), (0, None)]  # x любое, y ≥ 0\n",
        "\n",
        "# Решаем задачу\n",
        "result = opt.minimize(objective, x0, method='SLSQP',\n",
        "                     bounds=bounds, constraints=constraints)\n",
        "\n",
        "# Время выполнения\n",
        "scipy_time = time.time() - start_time\n",
        "\n",
        "# Выводим результаты\n",
        "print(\"=== РЕШЕНИЕ С ИСПОЛЬЗОВАНИЕМ SciPy ===\")\n",
        "print(f\"Статус решения: {result.message}\")\n",
        "print(f\"Оптимальное значение x = {result.x[0]}\")\n",
        "print(f\"Оптимальное значение y = {result.x[1]}\")\n",
        "print(f\"Максимальное значение целевой функции F = {-result.fun}\")  # меняем знак обратно\n",
        "print(f\"Время выполнения: {scipy_time:.6f} секунд\")\n",
        "print()"
      ],
      "metadata": {
        "colab": {
          "base_uri": "https://localhost:8080/"
        },
        "id": "B_w11NUWEQfB",
        "outputId": "f6285802-9ffc-4d6e-e330-b3fa60272d65"
      },
      "execution_count": 7,
      "outputs": [
        {
          "output_type": "stream",
          "name": "stdout",
          "text": [
            "=== РЕШЕНИЕ С ИСПОЛЬЗОВАНИЕМ SciPy ===\n",
            "Статус решения: Optimization terminated successfully\n",
            "Оптимальное значение x = -2.000000017530785\n",
            "Оптимальное значение y = 0.0\n",
            "Максимальное значение целевой функции F = 2.000000017530785\n",
            "Время выполнения: 0.029411 секунд\n",
            "\n"
          ]
        }
      ]
    },
    {
      "cell_type": "markdown",
      "source": [
        "### Описание\n",
        "1. Целевая функция:\n",
        "\n",
        "Поскольку scipy.optimize.minimize ищет минимум, мы преобразуем задачу максимизации в минимизацию: максимизировать y - x ≡ минимизировать x - y\n",
        "\n",
        "2. Формат ограничений:\n",
        "\n",
        "Ограничения типа неравенств задаются как {'type': 'ineq', 'fun': constraint_function}\n",
        "\n",
        "Функция ограничения должна возвращать значение ≥ 0 при выполнении ограничения\n",
        "\n",
        "1 - x - y ≥ 0 эквивалентно x + y ≤ 1\n",
        "\n",
        "x - 4y + 2 ≥ 0 эквивалентно x - 4y ≥ -2\n",
        "\n",
        "y ≥ 0 задается непосредственно\n",
        "\n",
        "3. Границы переменных:\n",
        "\n",
        "bounds = [(None, None), (0, None)] задает ограничения на переменные: x - любое число, y ≥ 0\n",
        "\n",
        "4. Метод решения:\n",
        "\n",
        "method='SLSQP' - Sequential Least Squares Programming, подходит для задач с ограничениями\n",
        "\n",
        "5. Обработка результата:\n",
        "\n",
        "Поскольку мы минимизировали x - y, максимальное значение исходной функции равно -result.fun"
      ],
      "metadata": {
        "id": "Pj-0Y3KsFUcf"
      }
    },
    {
      "cell_type": "markdown",
      "source": [
        "## 5. Решение с использованием библиотеки CVXOPT"
      ],
      "metadata": {
        "id": "xmaVLc_QEVkJ"
      }
    },
    {
      "cell_type": "code",
      "source": [
        "import cvxopt\n",
        "from cvxopt import matrix, solvers\n",
        "import time\n",
        "\n",
        "# Засекаем время начала выполнения\n",
        "start_time = time.time()\n",
        "\n",
        "# Отключаем вывод процесса решения\n",
        "solvers.options['show_progress'] = False\n",
        "\n",
        "# Целевая функция: минимизировать [-1, 1] * [x; y] = -x + y\n",
        "# Но нам нужно максимизировать y - x, поэтому минимизируем x - y\n",
        "c = matrix([1., -1.])  # коэффициенты целевой функции: x - y\n",
        "\n",
        "# Матрица ограничений неравенств G * [x; y] <= h\n",
        "# 1) x + y <= 1 → x + y - 1 <= 0\n",
        "# 2) -x + 4y <= 2 (из x - 4y >= -2 → -x + 4y <= 2)\n",
        "# 3) -y <= 0 (из y >= 0 → -y <= 0)\n",
        "G = matrix([\n",
        "    [1., -1., 0.],   # коэффициенты для x\n",
        "    [1., 4., -1.]    # коэффициенты для y\n",
        "])\n",
        "h = matrix([1., 2., 0.])\n",
        "\n",
        "# Решаем задачу\n",
        "solution = solvers.lp(c, G, h)\n",
        "\n",
        "# Время выполнения\n",
        "cvxopt_time = time.time() - start_time\n",
        "\n",
        "# Извлекаем результаты\n",
        "x_opt = solution['x'][0]\n",
        "y_opt = solution['x'][1]\n",
        "optimal_value = solution['primal objective']\n",
        "\n",
        "# Выводим результаты\n",
        "print(\"=== РЕШЕНИЕ С ИСПОЛЬЗОВАНИЕМ CVXOPT ===\")\n",
        "print(f\"Статус решения: {solution['status']}\")\n",
        "print(f\"Оптимальное значение x = {x_opt}\")\n",
        "print(f\"Оптимальное значение y = {y_opt}\")\n",
        "print(f\"Максимальное значение целевой функции F = {-optimal_value}\")  # меняем знак обратно\n",
        "print(f\"Время выполнения: {cvxopt_time:.6f} секунд\")\n",
        "print()"
      ],
      "metadata": {
        "colab": {
          "base_uri": "https://localhost:8080/"
        },
        "id": "aiENnN1wEUg2",
        "outputId": "8f7413bf-2f3e-4c65-b47c-3fef016b5e62"
      },
      "execution_count": 9,
      "outputs": [
        {
          "output_type": "stream",
          "name": "stdout",
          "text": [
            "=== РЕШЕНИЕ С ИСПОЛЬЗОВАНИЕМ CVXOPT ===\n",
            "Статус решения: optimal\n",
            "Оптимальное значение x = -1.999999999252164\n",
            "Оптимальное значение y = 1.987946948144185e-12\n",
            "Максимальное значение целевой функции F = 1.9999999992541522\n",
            "Время выполнения: 0.002769 секунд\n",
            "\n"
          ]
        }
      ]
    },
    {
      "cell_type": "markdown",
      "source": [
        "### Описание\n",
        "1. Матричное представление:\n",
        "\n",
        "CVXOPT использует матричную форму записи задач линейного программирования\n",
        "\n",
        "Задача минимизации: min cᵀx при условиях Gx ≤ h\n",
        "\n",
        "2. Целевая функция:\n",
        "\n",
        "c = matrix([1., -1.]) - коэффициенты целевой функции для [x, y]\n",
        "\n",
        "Мы минимизируем x - y, что эквивалентно максимизации y - x\n",
        "\n",
        "3. Матрица ограничений G:\n",
        "\n",
        "Каждый столбец соответствует одному ограничению\n",
        "\n",
        "[1., 1.] для x в ограничениях: x + y ≤ 1, -x + 4y ≤ 2, -y ≤ 0\n",
        "\n",
        "[1., 4., -1.] для y в тех же ограничениях\n",
        "\n",
        "4. Вектор правых частей h:\n",
        "\n",
        "h = matrix([1., 2., 0.]) - правые части ограничений\n",
        "\n",
        "5. Преобразование ограничений:\n",
        "\n",
        "x - 4y ≥ -2 преобразуется в -x + 4y ≤ 2\n",
        "\n",
        "y ≥ 0 преобразуется в -y ≤ 0\n",
        "\n",
        "6. Решение и извлечение результатов:\n",
        "\n",
        "solvers.lp(c, G, h) - решает задачу линейного программирования\n",
        "\n",
        "Результаты извлекаются из словаря solution"
      ],
      "metadata": {
        "id": "UtukDlP2FrSv"
      }
    },
    {
      "cell_type": "markdown",
      "source": [
        "## 6. Сравнение времени выполнения и результатов"
      ],
      "metadata": {
        "id": "kRXd2iDpEa2I"
      }
    },
    {
      "cell_type": "code",
      "source": [
        "import pandas as pd\n",
        "\n",
        "# Собираем результаты в таблицу\n",
        "results = {\n",
        "    'Метод': ['PuLP', 'SciPy', 'CVXOPT', 'Эталонный ответ'],\n",
        "    'x': [x.varValue, result.x[0], x_opt, -2],\n",
        "    'y': [y.varValue, result.x[1], y_opt, 0],\n",
        "    'F = y - x': [\n",
        "        pulp.value(problem.objective),\n",
        "        -result.fun,\n",
        "        -optimal_value,\n",
        "        0 - (-2)  # y - x = 0 - (-2) = 2\n",
        "    ],\n",
        "    'Время (сек)': [pulp_time, scipy_time, cvxopt_time, '-']\n",
        "}\n",
        "\n",
        "df = pd.DataFrame(results)\n",
        "print(\"=== СРАВНЕНИЕ РЕЗУЛЬТАТОВ ===\")\n",
        "print(df.to_string(index=False))\n",
        "print()\n",
        "\n",
        "# Проверка соответствия эталонному ответу\n",
        "print(\"=== ПРОВЕРКА СООТВЕТСТВИЯ ЭТАЛОННОМУ ОТВЕТУ ===\")\n",
        "for i, method in enumerate(['PuLP', 'SciPy', 'CVXOPT']):\n",
        "    x_val = results['x'][i]\n",
        "    y_val = results['y'][i]\n",
        "    if abs(x_val - (-2)) < 1e-6 and abs(y_val - 0) < 1e-6:\n",
        "        print(f\"✓ {method}: решение соответствует эталонному\")\n",
        "    else:\n",
        "        print(f\"✗ {method}: решение НЕ соответствует эталонному\")"
      ],
      "metadata": {
        "colab": {
          "base_uri": "https://localhost:8080/"
        },
        "id": "ezq2v0ZKEY4q",
        "outputId": "d05f568a-0261-459d-864f-271cd275f354"
      },
      "execution_count": 10,
      "outputs": [
        {
          "output_type": "stream",
          "name": "stdout",
          "text": [
            "=== СРАВНЕНИЕ РЕЗУЛЬТАТОВ ===\n",
            "          Метод    x            y  F = y - x Время (сек)\n",
            "           PuLP -2.0 0.000000e+00        2.0     0.00862\n",
            "          SciPy -2.0 0.000000e+00        2.0    0.029411\n",
            "         CVXOPT -2.0 1.987947e-12        2.0    0.002769\n",
            "Эталонный ответ -2.0 0.000000e+00        2.0           -\n",
            "\n",
            "=== ПРОВЕРКА СООТВЕТСТВИЯ ЭТАЛОННОМУ ОТВЕТУ ===\n",
            "✓ PuLP: решение соответствует эталонному\n",
            "✓ SciPy: решение соответствует эталонному\n",
            "✓ CVXOPT: решение соответствует эталонному\n"
          ]
        }
      ]
    },
    {
      "cell_type": "markdown",
      "source": [
        "## 7. Построение графика"
      ],
      "metadata": {
        "id": "5M7KffkLEf7r"
      }
    },
    {
      "cell_type": "code",
      "source": [
        "import matplotlib.pyplot as plt\n",
        "import numpy as np\n",
        "\n",
        "# Настройка стиля графиков\n",
        "plt.style.use('default')\n",
        "fig, ax = plt.subplots(figsize=(10, 8))\n",
        "\n",
        "# Определяем область построения\n",
        "x_vals = np.linspace(-3, 2, 400)\n",
        "y_vals = np.linspace(-0.5, 1.5, 400)\n",
        "\n",
        "# Строим ограничения\n",
        "# 1) y ≥ 0\n",
        "ax.axhline(y=0, color='blue', linestyle='-', linewidth=2, label='y ≥ 0')\n",
        "\n",
        "# 2) x + y ≤ 1 → y ≤ 1 - x\n",
        "y1 = 1 - x_vals\n",
        "ax.plot(x_vals, y1, 'red', linewidth=2, label='x + y ≤ 1')\n",
        "\n",
        "# 3) x - 4y ≥ -2 → y ≤ (x + 2)/4\n",
        "y2 = (x_vals + 2) / 4\n",
        "ax.plot(x_vals, y2, 'green', linewidth=2, label='x - 4y ≥ -2')\n",
        "\n",
        "# Заполняем область допустимых решений\n",
        "# Область: y ≥ 0, y ≤ 1 - x, y ≤ (x + 2)/4\n",
        "y_upper = np.minimum(1 - x_vals, (x_vals + 2) / 4)\n",
        "ax.fill_between(x_vals, 0, y_upper, where=(y_upper >= 0),\n",
        "                alpha=0.3, color='gray', label='Область допустимых решений')\n",
        "\n",
        "# Отмечаем оптимальную точку\n",
        "optimal_x = -2\n",
        "optimal_y = 0\n",
        "ax.plot(optimal_x, optimal_y, 'ro', markersize=10, label=f'Оптимальная точка ({optimal_x}, {optimal_y})')\n",
        "\n",
        "# Добавляем линии уровня целевой функции F = y - x\n",
        "for level in [-1, 0, 1, 2]:\n",
        "    y_level = level + x_vals\n",
        "    ax.plot(x_vals, y_level, 'orange', linestyle='--', alpha=0.7, linewidth=1)\n",
        "    ax.text(x_vals[-50], y_level[-50], f'F={level}', fontsize=9, color='orange')\n",
        "\n",
        "# Подписываем оптимальную точку\n",
        "ax.annotate(f'Оптимум: ({optimal_x}, {optimal_y})\\nF = {optimal_y - optimal_x}',\n",
        "            xy=(optimal_x, optimal_y),\n",
        "            xytext=(-1.5, 0.5),\n",
        "            arrowprops=dict(arrowstyle='->', color='red'),\n",
        "            fontsize=12, color='red')\n",
        "\n",
        "# Настраиваем график\n",
        "ax.set_xlabel('x', fontsize=12)\n",
        "ax.set_ylabel('y', fontsize=12)\n",
        "ax.set_title('Графическое решение задачи линейного программирования\\nМаксимизация F = y - x', fontsize=14)\n",
        "ax.legend(loc='upper right')\n",
        "ax.grid(True, alpha=0.3)\n",
        "ax.set_xlim(-3, 2)\n",
        "ax.set_ylim(-0.5, 1.5)\n",
        "ax.set_aspect('equal')\n",
        "\n",
        "plt.tight_layout()\n",
        "plt.show()\n",
        "\n",
        "# Выводим объяснение графического решения\n",
        "print(\"=== ОБЪЯСНЕНИЕ ГРАФИЧЕСКОГО РЕШЕНИЯ ===\")\n",
        "print(\"1. Синие линии: ограничения задачи\")\n",
        "print(\"2. Серная область: область допустимых решений\")\n",
        "print(\"3. Оранжевые пунктирные линии: линии уровня целевой функции F = y - x\")\n",
        "print(\"4. Красная точка: оптимальное решение\")\n",
        "print(\"5. Для максимизации F = y - x двигаем линии уровня в направлении увеличения F\")\n",
        "print(\"6. Последняя точка пересечения с областью допустимых решений: (-2, 0)\")\n",
        "print(\"7. Максимальное значение: F = 0 - (-2) = 2\")"
      ],
      "metadata": {
        "colab": {
          "base_uri": "https://localhost:8080/",
          "height": 925
        },
        "id": "nmVfMHbTEdZY",
        "outputId": "50571672-bb7e-4f5c-9235-d98857812ff3"
      },
      "execution_count": 11,
      "outputs": [
        {
          "output_type": "display_data",
          "data": {
            "text/plain": [
              "<Figure size 1000x800 with 1 Axes>"
            ],
            "image/png": "[encoded data removed]"
          },
          "metadata": {}
        },
        {
          "output_type": "stream",
          "name": "stdout",
          "text": [
            "=== ОБЪЯСНЕНИЕ ГРАФИЧЕСКОГО РЕШЕНИЯ ===\n",
            "1. Синие линии: ограничения задачи\n",
            "2. Серная область: область допустимых решений\n",
            "3. Оранжевые пунктирные линии: линии уровня целевой функции F = y - x\n",
            "4. Красная точка: оптимальное решение\n",
            "5. Для максимизации F = y - x двигаем линии уровня в направлении увеличения F\n",
            "6. Последняя точка пересечения с областью допустимых решений: (-2, 0)\n",
            "7. Максимальное значение: F = 0 - (-2) = 2\n"
          ]
        }
      ]
    },
    {
      "cell_type": "markdown",
      "source": [
        "### Описание\n",
        "\n",
        "Начальная настройка:\n",
        "\n",
        "plt.style.use('default') - устанавливает стандартный стиль графиков matplotlib\n",
        "\n",
        "plt.subplots(figsize=(10, 8)) - создает фигуру и оси с размерами 10x8 дюймов для удобного отображения\n",
        "\n",
        "1) Ограничения:\n",
        "\n",
        "1.1. Ограничение y ≥ 0:\n",
        "\n",
        "ax.axhline(y=0, ...) - рисует горизонтальную линию на уровне y=0\n",
        "\n",
        "Это прямая, ограничивающая область снизу\n",
        "\n",
        "1.2. Ограничение x + y ≤ 1:\n",
        "\n",
        "Преобразуем в y ≤ 1 - x\n",
        "\n",
        "y1 = 1 - x_vals - вычисляет значения y для каждого x\n",
        "\n",
        "Красная линия с меткой 'x + y ≤ 1'\n",
        "\n",
        "1.3. Ограничение x - 4y ≥ -2:\n",
        "\n",
        "Преобразуем в y ≤ (x + 2)/4\n",
        "\n",
        "y2 = (x_vals + 2) / 4 - вычисляет значения y для каждого x\n",
        "\n",
        "Зеленая линия с меткой 'x - 4y ≥ -2'\n",
        "\n",
        "\n",
        "2. Область допустимых решений:\n",
        "\n",
        "np.minimum(1 - x_vals, (x_vals + 2) / 4) - находит минимальное значение из двух верхних границ для каждого x\n",
        "\n",
        "ax.fill_between(x_vals, 0, y_upper, ...) - заливает область между:\n",
        "\n",
        "Нижней границей: y = 0 (из ограничения y ≥ 0)\n",
        "\n",
        "Верхней границей: минимальной из двух линий ограничений\n",
        "\n",
        "where=(y_upper >= 0) - заливка только там, где верхняя граница выше нижней\n",
        "\n",
        "alpha=0.3 - устанавливает прозрачность заливки для лучшей видимости линий\n",
        "\n",
        "3. Оптимальная точка:\n",
        "\n",
        "ax.plot(optimal_x, optimal_y, 'ro', markersize=10, ...) - рисует красную точку в координатах (-2, 0)\n",
        "\n",
        "markersize=10 - делает точку достаточно крупной для хорошей видимости\n",
        "\n",
        "Метка содержит координаты оптимальной точки\n",
        "\n",
        "4. Линии уровня целевой функции:\n",
        "\n",
        "Математическая основа: F = y - x → y = x + F\n",
        "\n",
        "Для каждого уровня F строим прямую y = x + F\n",
        "\n",
        "level in [-1, 0, 1, 2] - выбираем 4 уровня для демонстрации\n",
        "\n",
        "linestyle='--' - пунктирный стиль линий для отличия от ограничений\n",
        "\n",
        "ax.text(...) - добавляет подписи к линиям уровня в правой части графика\n",
        "\n",
        "5. Оптимальная точка:\n",
        "\n",
        "ax.annotate() - создает аннотацию с текстом и стрелкой\n",
        "\n",
        "xy=(-2, 0) - координаты точки, к которой относится аннотация\n",
        "\n",
        "xytext=(-1.5, 0.5) - координаты текста аннотации\n",
        "\n",
        "arrowprops - настройки стрелки: стиль '->' и красный цвет\n",
        "\n",
        "Текст показывает координаты и значение целевой функции\n",
        "\n",
        "6. Настройки графика:\n",
        "\n",
        "Подписи осей: set_xlabel(), set_ylabel() - подписываем оси\n",
        "\n",
        "Заголовок: set_title() - описывает цель графика\n",
        "\n",
        "Легенда: legend(loc='upper right') - размещает легенду в правом верхнем углу\n",
        "\n",
        "Сетка: grid(True, alpha=0.3) - добавляет полупрозрачную сетку\n",
        "\n",
        "Пределы осей: set_xlim(), set_ylim() - устанавливает границы отображения\n",
        "\n",
        "Соотношение осей: set_aspect('equal') - обеспечивает одинаковый масштаб по осям\n",
        "\n",
        "7. Настройка и отображение:\n",
        "\n",
        "plt.tight_layout() - автоматически подгоняет расположение элементов для лучшего отображения\n",
        "\n",
        "plt.show() - отображает готовый график"
      ],
      "metadata": {
        "id": "2jzRZNyLGv4H"
      }
    },
    {
      "cell_type": "code",
      "source": [],
      "metadata": {
        "id": "UE0iTFc3Ehgr"
      },
      "execution_count": null,
      "outputs": []
    }
  ]
}